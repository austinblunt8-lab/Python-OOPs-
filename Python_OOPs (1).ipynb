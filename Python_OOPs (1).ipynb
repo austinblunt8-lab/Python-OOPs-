{
  "nbformat": 4,
  "nbformat_minor": 0,
  "metadata": {
    "colab": {
      "provenance": []
    },
    "kernelspec": {
      "name": "python3",
      "display_name": "Python 3"
    },
    "language_info": {
      "name": "python"
    }
  },
  "cells": [
    {
      "cell_type": "markdown",
      "metadata": {
        "id": "2279cc98"
      },
      "source": [
        "\n",
        "  -"
      ]
    },
    {
      "cell_type": "markdown",
      "metadata": {
        "id": "b511640f"
      },
      "source": [
        "1. What is Object-Oriented Programming (OOP)?\n",
        "- Object-Oriented Programming (OOP) is a programming paradigm based on the concept of \"objects\", which can contain data and code.\n",
        "2. What is a class in OOP?\n",
        "- A class is a blueprint for creating objects (a particular data structure), providing initial values for state (member variables or attributes), and implementations of behavior (member functions or methods).\n",
        "3. What is an object in OOP?\n",
        "- An object is an instance of a class. It has the characteristics and behaviors defined by its class.\n",
        "4. What is the difference between abstraction and encapsulation?\n",
        "- **Abstraction** focuses on hiding complex implementation details and showing only the essential features of an object. It's about \"what\" an object does.\n",
        "- **Encapsulation** is about bundling data (attributes) and methods (behaviors) that operate on the data into a single unit (a class). It's about \"how\" the data is protected and accessed.\n",
        "5. What are dunder methods in Python?\n",
        "- Dunder methods (short for \"double underscore methods\") are special methods in Python that have double underscores at the beginning and end of their names (e.g., `__init__`, `__str__`). They are also known as magic methods and are used to define how objects of a class interact with built-in operations and functions.\n",
        "6. Explain the concept of inheritance in OOP.\n",
        "- **Inheritance** is a mechanism in OOP that allows a new class (subclass or derived class) to inherit properties and behaviors (attributes and methods) from an existing class (superclass or base class). This promotes code reusability and establishes a hierarchical relationship between classes.\n",
        "7. What is polymorphism in OOP?\n",
        "- **Polymorphism** means \"many forms\". In OOP, it refers to the ability of objects of different classes to respond to the same method call in their own specific ways. This allows for flexibility and extensibility in code.\n",
        "8. How is encapsulation achieved in Python?\n",
        "- In Python, encapsulation is typically achieved by using naming conventions to indicate the intended visibility of attributes and methods.\n",
        "    - **Public members:** Attributes and methods without a leading underscore are considered public and can be accessed from anywhere.\n",
        "    - **Protected members:** Attributes and methods with a single leading underscore (e.g., `_my_attribute`) are considered protected. While they can still be accessed from outside the class, it's a convention to treat them as internal and not modify them directly from outside the class.\n",
        "    - **Private members:** Attributes and methods with double leading underscores (e.g., `__my_attribute`) are considered private. Python performs name mangling to make it harder to access them directly from outside the class, although it's still technically possible.\n",
        "\n",
        "This provides a level of data hiding and allows for better control over how the data within an object is accessed and modified.\n",
        "\n",
        "9. What is a constructor in Python?\n",
        "- In Python, a constructor is a special method named `__init__` that is automatically called when an object of a class is created. Its primary purpose is to initialize the object's attributes (data members) with initial values.\n",
        "10. What are class and static methods in Python?\n",
        "- **Class methods** are methods that are bound to the class and receive the class itself as the first argument (conventionally named `cls`). They are defined using the `@classmethod` decorator and are often used for factory methods that create instances of the class in different ways.\n",
        "- **Static methods** are methods that are bound neither to the class nor to the instance. They are defined using the `@staticmethod` decorator and do not receive an implicit first argument. They are typically used for utility functions that are related to the class but do not need to access or modify class or instance state.\n",
        "11. What is method overloading in Python?\n",
        "- **Method overloading** is a concept in some programming languages where multiple methods within the same class can have the same name but different parameters (different number of arguments or different types of arguments). Python does not support method overloading in the same way as languages like Java or C++.\n",
        "\n",
        "In Python, if you define multiple methods with the same name in a class, the last one defined will overwrite the previous ones. To achieve similar behavior, you can use:\n",
        "    - Default parameter values\n",
        "    - Variable-length argument lists (`*args` and `**kwargs`)\n",
        "    - Type checking within the method.\n",
        "\n",
        "12. What is method overriding in OOP?\n",
        "- **Method overriding** is a feature in OOP that allows a subclass to provide a specific implementation of a method that is already defined in its superclass. When the method is called on an object of the subclass, the overridden method in the subclass is executed instead of the method in the superclass. This is a way to achieve runtime polymorphism.\n",
        "13. What is a property decorator in Python?\n",
        "- The `@property` decorator in Python is a built-in decorator that is used to define properties for a class. It provides a way to access class methods as if they were attributes, allowing you to implement getter, setter, and deleter methods for an attribute without changing the way the attribute is accessed. This helps in encapsulating the logic for accessing and modifying object data.\n",
        "14. Why is polymorphism important in OOP?\n",
        "- **Polymorphism** is important in OOP for several reasons:\n",
        "    - **Flexibility and Extensibility:** It allows you to write code that can work with objects of different classes in a uniform way. This makes your code more flexible and easier to extend with new classes without modifying existing code.\n",
        "    - **Code Reusability:** You can write generic functions or methods that can operate on objects of various types, as long as they adhere to a common interface or inherit from a common superclass. This promotes code reusability and reduces redundancy.\n",
        "    - **Simplified Code:** Polymorphism can simplify your code by allowing you to use a single method call to perform similar actions on different types of objects. You don't need to write separate conditional statements or functions for each type.\n",
        "    - **Maintainability:** Polymorphism makes your code more maintainable because changes to the implementation of a specific class do not affect the code that uses polymorphic behavior, as long as the interface remains consistent.\n",
        "15. What is an abstract class in Python?\n",
        "- An **abstract class** is a class that cannot be instantiated directly. It is designed to be a blueprint for other classes, and it may contain abstract methods (methods that have a declaration but no implementation). Subclasses that inherit from an abstract class are required to provide implementations for all of its abstract methods. Abstract classes are used to define common interfaces and enforce a certain structure on subclasses.\n",
        "16. What are the advantages of OOP?\n",
        "- **Modularity:** OOP promotes modular design by organizing code into objects, making it easier to understand, develop and maintain complex systems.\n",
        "- **Reusability:** Through inheritance and polymorphism, OOP allows for code reuse, reducing redundancy and development time.\n",
        "- **Flexibility:** Polymorphism enables writing flexible code that can work with different object types.\n",
        "- **Maintainability:** Encapsulation and modularity make it easier to modify and maintain code without affecting other parts of the system.\n",
        "- **Abstraction:** Hiding implementation details simplifies the view of complex systems and focuses on essential features.\n",
        "- **Easier Debugging:** Encapsulation helps in isolating issues within objects, making debugging easier.\n",
        "- **Improved Collaboration:** With clear object boundaries and interfaces, it becomes easier for multiple developers to work on different parts of a project simultaneously.\n",
        "17. What is the difference between a class variable and an instance variable?\n",
        "- **Class variables** are variables that are shared among all instances of a class. They are defined within the class but outside of any instance methods. Class variables are accessed using the class name or an instance of the class.\n",
        "- **Instance variables** are variables that are unique to each instance of a class. They are defined within the constructor (`__init__`) or other instance methods using the `self` keyword. Instance variables are accessed using an instance of the class.\n",
        "18. What is multiple inheritance in Python?\n",
        "- **Multiple inheritance** is a feature in OOP that allows a class to inherit properties and behaviors from more than one parent class. This means a subclass can inherit from multiple superclasses, combining their attributes and methods. While powerful, it can lead to complexities like the \"diamond problem\" if not managed carefully. Python uses a Method Resolution Order (MRO) to handle method calls in such cases.\n",
        "19. Explain the purpose of `__str__` and `__repr__` methods in Python.\n",
        "- **`__str__` (for \"string\"):** This method is intended to return a human-readable string representation of an object. It's what you would typically want to display to an end-user. It's called by functions like `str()`, `print()`, and `format()`.\n",
        "- **`__repr__` (for \"representation\"):** This method is intended to return an unambiguous string representation of an object that could be used to recreate the object. It's primarily for developers and debugging. It's called by functions like `repr()` and when you simply type the object's name in an interactive session (like a Colab notebook cell or Python interpreter). If `__str__` is not defined, `__repr__` is used as a fallback for `str()`.\n",
        "20. What is the significance of the `super()` function in Python?\n",
        "- The `super()` function in Python is used to refer to the parent class or superclass. It has two main uses:\n",
        "    - **Calling parent class methods:** The most common use of `super()` is to call a method from the parent class, especially when that method has been overridden in the subclass. This allows you to extend or modify the parent class's behavior without completely replacing it.\n",
        "    - **Accessing parent class attributes:** In some cases, `super()` can be used to access attributes of the parent class, although this is less common than calling methods.\n",
        "\n",
        "Using `super()` is particularly important in cases of multiple inheritance to ensure that methods are called in the correct Method Resolution Order (MRO). It helps maintain a clear and cooperative inheritance hierarchy.\n",
        "\n",
        "21. What is the significance of the `__del__` method in Python?\n",
        "- The `__del__` method, also known as the destructor, is a special method in Python that is called when an object is about to be destroyed or garbage collected. Its primary purpose is to perform cleanup actions before the object is removed from memory. This might include closing file handles, releasing network connections, or freeing up other resources that the object was using. However, the exact timing of when `__del__` is called is not guaranteed due to Python's garbage collection mechanism, so it's generally recommended to use context managers (`with` statements) for resource management whenever possible, as they provide more reliable cleanup.\n",
        "22. What is the difference between `@staticmethod` and `@classmethod` in Python?\n",
        "- **`@staticmethod`**: A static method belongs to the class but doesn't access or modify the class or instance state. It doesn't take `self` or `cls` as the first argument. It's essentially a regular function that happens to be defined within a class, often used for utility functions that have a logical connection to the class.\n",
        "- **`@classmethod`**: A class method is bound to the class and receives the class itself as the first argument (conventionally named `cls`). It can access or modify class state (class variables). They are often used for factory methods that create instances of the class in different ways or for methods that operate on class-level data.\n",
        "23. How does polymorphism work in Python with inheritance?\n",
        "- In Python, polymorphism with inheritance means that a subclass can provide a specific version of a method that is already in its parent class. So, when you call that method on an object, Python figures out which version to use based on the object's type. This lets you treat objects of different but related classes in a uniform way, even though they might do slightly different things when you call the same method."
      ]
    },
    {
      "cell_type": "code",
      "source": [
        "# Practical questions\n",
        "\n"
      ],
      "metadata": {
        "id": "6sNCAE5ygDWv"
      },
      "execution_count": null,
      "outputs": []
    },
    {
      "cell_type": "markdown",
      "source": [
        "1. Create a parent class Animal with a method speak() that prints a generic message. Create a child class Dog that overrides the speak() method to print \"Bark!\".\n",
        ""
      ],
      "metadata": {
        "id": "TikAxNX8g3OD"
      }
    },
    {
      "cell_type": "code",
      "metadata": {
        "id": "b8fd5d70"
      },
      "source": [
        "class Animal:\n",
        "    def speak(self):\n",
        "        print(\"Generic animal sound\")\n",
        "\n",
        "class Dog(Animal):\n",
        "    def speak(self):\n",
        "        print(\"Bark!\")"
      ],
      "execution_count": 1,
      "outputs": []
    },
    {
      "cell_type": "code",
      "metadata": {
        "colab": {
          "base_uri": "https://localhost:8080/"
        },
        "id": "8f6a0b5b",
        "outputId": "824850a9-04a4-4966-8f4f-c03bf449b981"
      },
      "source": [
        "# Create instances of the classes\n",
        "animal = Animal()\n",
        "dog = Dog()\n",
        "\n",
        "# Call the speak method on each instance\n",
        "animal.speak()\n",
        "dog.speak()"
      ],
      "execution_count": 2,
      "outputs": [
        {
          "output_type": "stream",
          "name": "stdout",
          "text": [
            "Generic animal sound\n",
            "Bark!\n"
          ]
        }
      ]
    },
    {
      "cell_type": "markdown",
      "source": [
        "2.  Write a program to create an abstract class Shape with a method area(). Derive classes Circle and Rectangle\n",
        "from it and implement the area() method in both."
      ],
      "metadata": {
        "id": "G_cvTgfwg9tX"
      }
    },
    {
      "cell_type": "code",
      "source": [],
      "metadata": {
        "id": "fhOnf7RGhD7-"
      },
      "execution_count": null,
      "outputs": []
    },
    {
      "cell_type": "code",
      "metadata": {
        "id": "186e8c5f"
      },
      "source": [
        "from abc import ABC, abstractmethod\n",
        "\n",
        "class Shape(ABC):\n",
        "    @abstractmethod\n",
        "    def area(self):\n",
        "        pass"
      ],
      "execution_count": 3,
      "outputs": []
    },
    {
      "cell_type": "code",
      "metadata": {
        "id": "45d84c6b"
      },
      "source": [
        "import math\n",
        "\n",
        "class Circle(Shape):\n",
        "    def __init__(self, radius):\n",
        "        self.radius = radius\n",
        "\n",
        "    def area(self):\n",
        "        return math.pi * self.radius**2"
      ],
      "execution_count": 4,
      "outputs": []
    },
    {
      "cell_type": "code",
      "metadata": {
        "id": "af01a935"
      },
      "source": [
        "class Rectangle(Shape):\n",
        "    def __init__(self, width, height):\n",
        "        self.width = width\n",
        "        self.height = height\n",
        "\n",
        "    def area(self):\n",
        "        return self.width * self.height"
      ],
      "execution_count": 5,
      "outputs": []
    },
    {
      "cell_type": "code",
      "metadata": {
        "colab": {
          "base_uri": "https://localhost:8080/"
        },
        "id": "160f79af",
        "outputId": "267fa519-f34d-412e-c7e0-337e7b8c76e6"
      },
      "source": [
        "# Example usage:\n",
        "circle = Circle(5)\n",
        "rectangle = Rectangle(4, 6)\n",
        "\n",
        "print(f\"Area of Circle: {circle.area()}\")\n",
        "print(f\"Area of Rectangle: {rectangle.area()}\")"
      ],
      "execution_count": 6,
      "outputs": [
        {
          "output_type": "stream",
          "name": "stdout",
          "text": [
            "Area of Circle: 78.53981633974483\n",
            "Area of Rectangle: 24\n"
          ]
        }
      ]
    },
    {
      "cell_type": "markdown",
      "source": [
        "3.  Implement a multi-level inheritance scenario where a class Vehicle has an attribute type. Derive a class Car\n",
        "and further derive a class ElectricCar that adds a battery attribute."
      ],
      "metadata": {
        "id": "XyVhsgmghSkj"
      }
    },
    {
      "cell_type": "code",
      "metadata": {
        "id": "15b6b59b"
      },
      "source": [
        "class Vehicle:\n",
        "    def __init__(self, vehicle_type):\n",
        "        self.type = vehicle_type\n",
        "        print(f\"Vehicle created: Type - {self.type}\")\n",
        "\n",
        "class Car(Vehicle):\n",
        "    def __init__(self, car_type, model):\n",
        "        super().__init__(car_type)\n",
        "        self.model = model\n",
        "        print(f\"Car created: Model - {self.model}\")\n",
        "\n",
        "class ElectricCar(Car):\n",
        "    def __init__(self, car_type, model, battery_capacity):\n",
        "        super().__init__(car_type, model)\n",
        "        self.battery = battery_capacity\n",
        "        print(f\"Electric Car created: Battery Capacity - {self.battery} kWh\")"
      ],
      "execution_count": 7,
      "outputs": []
    },
    {
      "cell_type": "code",
      "metadata": {
        "colab": {
          "base_uri": "https://localhost:8080/"
        },
        "id": "d77ed881",
        "outputId": "abb8e973-3d61-4ac2-b523-431d3754f694"
      },
      "source": [
        "# Example usage:\n",
        "my_electric_car = ElectricCar(\"Electric Car\", \"Tesla Model 3\", 75)\n",
        "\n",
        "print(f\"\\nMy electric car is a {my_electric_car.type}, model {my_electric_car.model}, with a {my_electric_car.battery} kWh battery.\")"
      ],
      "execution_count": 8,
      "outputs": [
        {
          "output_type": "stream",
          "name": "stdout",
          "text": [
            "Vehicle created: Type - Electric Car\n",
            "Car created: Model - Tesla Model 3\n",
            "Electric Car created: Battery Capacity - 75 kWh\n",
            "\n",
            "My electric car is a Electric Car, model Tesla Model 3, with a 75 kWh battery.\n"
          ]
        }
      ]
    },
    {
      "cell_type": "markdown",
      "source": [
        "4. Demonstrate polymorphism by creating a base class Bird with a method fly(). Create two derived classes\n",
        "Sparrow and Penguin that override the fly() method."
      ],
      "metadata": {
        "id": "F5OUWEpjhofi"
      }
    },
    {
      "cell_type": "code",
      "metadata": {
        "id": "15def014"
      },
      "source": [
        "class Bird:\n",
        "    def fly(self):\n",
        "        print(\"Most birds can fly.\")\n",
        "\n",
        "class Sparrow(Bird):\n",
        "    def fly(self):\n",
        "        print(\"Sparrows can fly short distances.\")\n",
        "\n",
        "class Penguin(Bird):\n",
        "    def fly(self):\n",
        "        print(\"Penguins cannot fly, but they can swim!\")"
      ],
      "execution_count": 9,
      "outputs": []
    },
    {
      "cell_type": "code",
      "metadata": {
        "colab": {
          "base_uri": "https://localhost:8080/"
        },
        "id": "b21ff255",
        "outputId": "b4e2faea-f64c-4628-bb03-84c80f7b7bd4"
      },
      "source": [
        "# Demonstrate polymorphism\n",
        "def make_bird_fly(bird):\n",
        "    bird.fly()\n",
        "\n",
        "# Create instances of the bird classes\n",
        "bird = Bird()\n",
        "sparrow = Sparrow()\n",
        "penguin = Penguin()\n",
        "\n",
        "# Call the function with different bird objects\n",
        "make_bird_fly(bird)\n",
        "make_bird_fly(sparrow)\n",
        "make_bird_fly(penguin)"
      ],
      "execution_count": 10,
      "outputs": [
        {
          "output_type": "stream",
          "name": "stdout",
          "text": [
            "Most birds can fly.\n",
            "Sparrows can fly short distances.\n",
            "Penguins cannot fly, but they can swim!\n"
          ]
        }
      ]
    },
    {
      "cell_type": "markdown",
      "source": [
        "5.  Write a program to demonstrate encapsulation by creating a class BankAccount with private attributes\n",
        "balance and methods to deposit, withdraw, and check balance."
      ],
      "metadata": {
        "id": "IjvexNvjh8Tj"
      }
    },
    {
      "cell_type": "code",
      "metadata": {
        "id": "678ccdfa"
      },
      "source": [
        "class BankAccount:\n",
        "    def __init__(self, initial_balance=0):\n",
        "        # Private attribute using name mangling\n",
        "        self.__balance = initial_balance\n",
        "\n",
        "    def deposit(self, amount):\n",
        "        if amount > 0:\n",
        "            self.__balance += amount\n",
        "            print(f\"Deposited: ${amount}. New balance: ${self.__balance}\")\n",
        "        else:\n",
        "            print(\"Deposit amount must be positive.\")\n",
        "\n",
        "    def withdraw(self, amount):\n",
        "        if amount > 0 and amount <= self.__balance:\n",
        "            self.__balance -= amount\n",
        "            print(f\"Withdrew: ${amount}. New balance: ${self.__balance}\")\n",
        "        elif amount > self.__balance:\n",
        "            print(\"Insufficient funds.\")\n",
        "        else:\n",
        "            print(\"Withdrawal amount must be positive.\")\n",
        "\n",
        "    def get_balance(self):\n",
        "        return self.__balance"
      ],
      "execution_count": 11,
      "outputs": []
    },
    {
      "cell_type": "code",
      "metadata": {
        "colab": {
          "base_uri": "https://localhost:8080/"
        },
        "id": "928dd81e",
        "outputId": "ffe20e3b-71ad-4c8f-bd3b-19e26c08ff4c"
      },
      "source": [
        "# Example usage:\n",
        "account = BankAccount(1000)\n",
        "\n",
        "account.deposit(500)\n",
        "account.withdraw(200)\n",
        "print(f\"Current balance: ${account.get_balance()}\")\n",
        "account.withdraw(1500) # Attempt to withdraw more than balance\n",
        "account.deposit(-100) # Attempt to deposit a negative amount\n",
        "\n",
        "# Trying to access the private attribute directly will result in an AttributeError\n",
        "# print(account.__balance)"
      ],
      "execution_count": 12,
      "outputs": [
        {
          "output_type": "stream",
          "name": "stdout",
          "text": [
            "Deposited: $500. New balance: $1500\n",
            "Withdrew: $200. New balance: $1300\n",
            "Current balance: $1300\n",
            "Insufficient funds.\n",
            "Deposit amount must be positive.\n"
          ]
        }
      ]
    },
    {
      "cell_type": "markdown",
      "source": [
        "6. Demonstrate runtime polymorphism using a method play() in a base class Instrument. Derive classes Guitar\n",
        "and Piano that implement their own version of play()."
      ],
      "metadata": {
        "id": "XMaOxeKgiGoL"
      }
    },
    {
      "cell_type": "code",
      "metadata": {
        "id": "75815d16"
      },
      "source": [
        "class Instrument:\n",
        "    def play(self):\n",
        "        print(\"Playing an instrument sound.\")\n",
        "\n",
        "class Guitar(Instrument):\n",
        "    def play(self):\n",
        "        print(\"Strumming the guitar strings.\")\n",
        "\n",
        "class Piano(Instrument):\n",
        "    def play(self):\n",
        "        print(\"Playing the piano keys.\")"
      ],
      "execution_count": 13,
      "outputs": []
    },
    {
      "cell_type": "code",
      "metadata": {
        "colab": {
          "base_uri": "https://localhost:8080/"
        },
        "id": "39a87858",
        "outputId": "f63af355-8a79-41e7-cc37-abc0ec9e8f8c"
      },
      "source": [
        "# Demonstrate runtime polymorphism\n",
        "def make_instrument_play(instrument):\n",
        "    instrument.play()\n",
        "\n",
        "# Create instances of the instrument classes\n",
        "instrument = Instrument()\n",
        "guitar = Guitar()\n",
        "piano = Piano()\n",
        "\n",
        "# Call the function with different instrument objects\n",
        "make_instrument_play(instrument)\n",
        "make_instrument_play(guitar)\n",
        "make_instrument_play(piano)"
      ],
      "execution_count": 14,
      "outputs": [
        {
          "output_type": "stream",
          "name": "stdout",
          "text": [
            "Playing an instrument sound.\n",
            "Strumming the guitar strings.\n",
            "Playing the piano keys.\n"
          ]
        }
      ]
    },
    {
      "cell_type": "markdown",
      "source": [
        "7.  Create a class MathOperations with a class method add_numbers() to add two numbers and a static\n",
        "method subtract_numbers() to subtract two numbers."
      ],
      "metadata": {
        "id": "asYqo910iTx3"
      }
    },
    {
      "cell_type": "code",
      "metadata": {
        "id": "ab26a051"
      },
      "source": [
        "class MathOperations:\n",
        "    @classmethod\n",
        "    def add_numbers(cls, x, y):\n",
        "        \"\"\"Adds two numbers using a class method.\"\"\"\n",
        "        return x + y\n",
        "\n",
        "    @staticmethod\n",
        "    def subtract_numbers(x, y):\n",
        "        \"\"\"Subtracts two numbers using a static method.\"\"\"\n",
        "        return x - y"
      ],
      "execution_count": 15,
      "outputs": []
    },
    {
      "cell_type": "code",
      "metadata": {
        "colab": {
          "base_uri": "https://localhost:8080/"
        },
        "id": "53994a36",
        "outputId": "e0f614aa-dfde-42a2-8098-e0db84f97790"
      },
      "source": [
        "# Example usage:\n",
        "sum_result = MathOperations.add_numbers(10, 5)\n",
        "print(f\"Sum using class method: {sum_result}\")\n",
        "\n",
        "difference_result = MathOperations.subtract_numbers(10, 5)\n",
        "print(f\"Difference using static method: {difference_result}\")"
      ],
      "execution_count": 16,
      "outputs": [
        {
          "output_type": "stream",
          "name": "stdout",
          "text": [
            "Sum using class method: 15\n",
            "Difference using static method: 5\n"
          ]
        }
      ]
    },
    {
      "cell_type": "markdown",
      "source": [
        "8. Implement a class Person with a class method to count the total number of persons created."
      ],
      "metadata": {
        "id": "EozDYzbRihSj"
      }
    },
    {
      "cell_type": "code",
      "metadata": {
        "id": "ed541779"
      },
      "source": [
        "class Person:\n",
        "    # Class variable to keep track of the number of instances\n",
        "    number_of_persons = 0\n",
        "\n",
        "    def __init__(self, name):\n",
        "        self.name = name\n",
        "        # Increment the class variable each time a new instance is created\n",
        "        Person.number_of_persons += 1\n",
        "\n",
        "    @classmethod\n",
        "    def count_persons(cls):\n",
        "        \"\"\"Class method to return the total number of Person objects created.\"\"\"\n",
        "        return cls.number_of_persons"
      ],
      "execution_count": 17,
      "outputs": []
    },
    {
      "cell_type": "markdown",
      "source": [
        "9. Write a class Fraction with attributes numerator and denominator. Override the str method to display the\n",
        "fraction as \"numerator/denominator\"."
      ],
      "metadata": {
        "id": "Kih2rEYuiuW2"
      }
    },
    {
      "cell_type": "code",
      "metadata": {
        "id": "22b3fec3"
      },
      "source": [
        "class Fraction:\n",
        "    def __init__(self, numerator, denominator):\n",
        "        self.numerator = numerator\n",
        "        self.denominator = denominator\n",
        "\n",
        "    def __str__(self):\n",
        "        \"\"\"Overrides the string representation for human-readable output.\"\"\"\n",
        "        return f\"{self.numerator}/{self.denominator}\"\n",
        "\n",
        "    def __repr__(self):\n",
        "        \"\"\"Provides an unambiguous string representation for developers.\"\"\"\n",
        "        return f\"Fraction({self.numerator}, {self.denominator})\""
      ],
      "execution_count": 18,
      "outputs": []
    },
    {
      "cell_type": "markdown",
      "source": [
        "10. Demonstrate operator overloading by creating a class Vector and overriding the add method to add two\n",
        "vectors."
      ],
      "metadata": {
        "id": "ICQBd7WwjB2k"
      }
    },
    {
      "cell_type": "code",
      "metadata": {
        "id": "2f447043"
      },
      "source": [
        "class Vector:\n",
        "    def __init__(self, x, y):\n",
        "        self.x = x\n",
        "        self.y = y\n",
        "\n",
        "    def __str__(self):\n",
        "        return f\"Vector({self.x}, {self.y})\"\n",
        "\n",
        "    def __add__(self, other):\n",
        "        \"\"\"Overrides the addition operator (+) for Vector objects.\"\"\"\n",
        "        if isinstance(other, Vector):\n",
        "            return Vector(self.x + other.x, self.y + other.y)\n",
        "        else:\n",
        "            raise TypeError(\"Can only add a Vector object to another Vector object.\")"
      ],
      "execution_count": 19,
      "outputs": []
    },
    {
      "cell_type": "code",
      "metadata": {
        "colab": {
          "base_uri": "https://localhost:8080/"
        },
        "id": "f43b1e96",
        "outputId": "9be7cfc3-f7de-4c16-d24b-b9b81a0d5bf5"
      },
      "source": [
        "# Example usage:\n",
        "vector1 = Vector(2, 3)\n",
        "vector2 = Vector(5, 7)\n",
        "\n",
        "# Using the overloaded + operator\n",
        "vector3 = vector1 + vector2\n",
        "\n",
        "print(f\"Vector 1: {vector1}\")\n",
        "print(f\"Vector 2: {vector2}\")\n",
        "print(f\"Vector 1 + Vector 2: {vector3}\")\n",
        "\n",
        "# Attempting to add a Vector and a non-Vector object (will raise a TypeError)\n",
        "# result = vector1 + 10"
      ],
      "execution_count": 20,
      "outputs": [
        {
          "output_type": "stream",
          "name": "stdout",
          "text": [
            "Vector 1: Vector(2, 3)\n",
            "Vector 2: Vector(5, 7)\n",
            "Vector 1 + Vector 2: Vector(7, 10)\n"
          ]
        }
      ]
    },
    {
      "cell_type": "markdown",
      "source": [
        "11.  Create a class Person with attributes name and age. Add a method greet() that prints \"Hello, my name is\n",
        "{name} and I am {age} years old.\""
      ],
      "metadata": {
        "id": "oL307IFVjIr4"
      }
    },
    {
      "cell_type": "code",
      "metadata": {
        "id": "5edb2b8c"
      },
      "source": [
        "class Person:\n",
        "    def __init__(self, name, age):\n",
        "        self.name = name\n",
        "        self.age = age\n",
        "\n",
        "    def greet(self):\n",
        "        print(f\"Hello, my name is {self.name} and I am {self.age} years old.\")"
      ],
      "execution_count": 21,
      "outputs": []
    },
    {
      "cell_type": "markdown",
      "source": [
        "12.  Implement a class Student with attributes name and grades. Create a method average_grade() to compute\n",
        "the average of the grades."
      ],
      "metadata": {
        "id": "O63fsys3jTJF"
      }
    },
    {
      "cell_type": "code",
      "metadata": {
        "id": "ce7f305b"
      },
      "source": [
        "class Student:\n",
        "    def __init__(self, name, grades):\n",
        "        self.name = name\n",
        "        self.grades = grades  # grades should be a list of numbers\n",
        "\n",
        "    def average_grade(self):\n",
        "        \"\"\"Computes the average of the student's grades.\"\"\"\n",
        "        if not self.grades:  # Handle the case of no grades\n",
        "            return 0\n",
        "        return sum(self.grades) / len(self.grades)"
      ],
      "execution_count": 22,
      "outputs": []
    },
    {
      "cell_type": "code",
      "metadata": {
        "colab": {
          "base_uri": "https://localhost:8080/"
        },
        "id": "625b4497",
        "outputId": "c15d7251-2ae1-4db7-a5d1-222f4360975d"
      },
      "source": [
        "# Example usage:\n",
        "student1 = Student(\"Alice\", [85, 90, 78, 92])\n",
        "student2 = Student(\"Bob\", [70, 75, 80])\n",
        "student3 = Student(\"Charlie\", [])\n",
        "\n",
        "print(f\"{student1.name}'s average grade: {student1.average_grade()}\")\n",
        "print(f\"{student2.name}'s average grade: {student2.average_grade()}\")\n",
        "print(f\"{student3.name}'s average grade: {student3.average_grade()}\")"
      ],
      "execution_count": 23,
      "outputs": [
        {
          "output_type": "stream",
          "name": "stdout",
          "text": [
            "Alice's average grade: 86.25\n",
            "Bob's average grade: 75.0\n",
            "Charlie's average grade: 0\n"
          ]
        }
      ]
    },
    {
      "cell_type": "markdown",
      "source": [
        "13.  Create a class Rectangle with methods set_dimensions() to set the dimensions and area() to calculate the\n",
        "area."
      ],
      "metadata": {
        "id": "3RLFzKWjjcXg"
      }
    },
    {
      "cell_type": "code",
      "metadata": {
        "id": "da6bbc9a"
      },
      "source": [
        "class Rectangle:\n",
        "    def __init__(self, width=0, height=0):\n",
        "        self.width = width\n",
        "        self.height = height\n",
        "\n",
        "    def set_dimensions(self, width, height):\n",
        "        \"\"\"Sets the width and height of the rectangle.\"\"\"\n",
        "        self.width = width\n",
        "        self.height = height\n",
        "\n",
        "    def area(self):\n",
        "        \"\"\"Calculates the area of the rectangle.\"\"\"\n",
        "        return self.width * self.height"
      ],
      "execution_count": 24,
      "outputs": []
    },
    {
      "cell_type": "markdown",
      "source": [
        "16. Create a class Animal with an abstract method sound(). Create two derived classes Cow and Sheep that\n",
        "implement the sound() method."
      ],
      "metadata": {
        "id": "9ntD50VojlOu"
      }
    },
    {
      "cell_type": "code",
      "metadata": {
        "id": "e7189d2f"
      },
      "source": [
        "from abc import ABC, abstractmethod\n",
        "\n",
        "class Animal(ABC):\n",
        "    @abstractmethod\n",
        "    def sound(self):\n",
        "        pass\n",
        "\n",
        "class Cow(Animal):\n",
        "    def sound(self):\n",
        "        print(\"Moo!\")\n",
        "\n",
        "class Sheep(Animal):\n",
        "    def sound(self):\n",
        "        print(\"Baa!\")"
      ],
      "execution_count": 25,
      "outputs": []
    },
    {
      "cell_type": "code",
      "metadata": {
        "colab": {
          "base_uri": "https://localhost:8080/"
        },
        "id": "5facaf1c",
        "outputId": "5534a8c2-2522-411d-9bb5-6af28ce29b06"
      },
      "source": [
        "# Example usage:\n",
        "# animal = Animal()  # This would raise a TypeError because Animal is an abstract class\n",
        "\n",
        "cow = Cow()\n",
        "sheep = Sheep()\n",
        "\n",
        "cow.sound()\n",
        "sheep.sound()"
      ],
      "execution_count": 26,
      "outputs": [
        {
          "output_type": "stream",
          "name": "stdout",
          "text": [
            "Moo!\n",
            "Baa!\n"
          ]
        }
      ]
    },
    {
      "cell_type": "markdown",
      "source": [
        "18. Create a class House with attributes address and price. Create a derived class Mansion that adds an\n",
        "attribute number_of_rooms"
      ],
      "metadata": {
        "id": "V9sqAym-kEhc"
      }
    },
    {
      "cell_type": "code",
      "metadata": {
        "id": "64e564c0"
      },
      "source": [
        "class House:\n",
        "    def __init__(self, address, price):\n",
        "        self.address = address\n",
        "        self.price = price\n",
        "\n",
        "class Mansion(House):\n",
        "    def __init__(self, address, price, number_of_rooms):\n",
        "        super().__init__(address, price)\n",
        "        self.number_of_rooms = number_of_rooms"
      ],
      "execution_count": 27,
      "outputs": []
    }
  ]
}